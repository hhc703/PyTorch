{
  "nbformat": 4,
  "nbformat_minor": 0,
  "metadata": {
    "colab": {
      "name": "Linear Regression.ipynb",
      "provenance": [],
      "collapsed_sections": [],
      "authorship_tag": "ABX9TyN3o9K46eVYJQgMQ8OszwK5",
      "include_colab_link": true
    },
    "kernelspec": {
      "name": "python3",
      "display_name": "Python 3"
    },
    "language_info": {
      "name": "python"
    }
  },
  "cells": [
    {
      "cell_type": "markdown",
      "metadata": {
        "id": "view-in-github",
        "colab_type": "text"
      },
      "source": [
        "<a href=\"https://colab.research.google.com/github/hhc703/PyTorch/blob/main/Linear_Regression.ipynb\" target=\"_parent\"><img src=\"https://colab.research.google.com/assets/colab-badge.svg\" alt=\"Open In Colab\"/></a>"
      ]
    },
    {
      "cell_type": "markdown",
      "source": [
        "Linear Regression"
      ],
      "metadata": {
        "id": "lRAICM9siIT-"
      }
    },
    {
      "cell_type": "code",
      "execution_count": null,
      "metadata": {
        "id": "1x3nWf-sVX2Y"
      },
      "outputs": [],
      "source": [
        "import torch"
      ]
    },
    {
      "cell_type": "code",
      "source": [
        "x_train = torch.FloatTensor([[1], [2], [3]])\n",
        "y_train = torch.FloatTensor([[4], [5], [6]])"
      ],
      "metadata": {
        "id": "5VUA977sVeqa"
      },
      "execution_count": null,
      "outputs": []
    },
    {
      "cell_type": "code",
      "source": [
        "w = torch.zeros(1, requires_grad=True)  #requires_grad : 학습을 통해 변경되는 값임을 명시.\n",
        "b = torch.zeros(1, requires_grad=True)"
      ],
      "metadata": {
        "id": "RMB5Xfh0V1Ip"
      },
      "execution_count": null,
      "outputs": []
    },
    {
      "cell_type": "code",
      "source": [
        "optimizer = torch.optim.SGD([w, b], lr=0.01)  # Stochastic Gradient Descent (확률적 경사 하강법) : 전체가 아닌 무작위로 배치 추출"
      ],
      "metadata": {
        "id": "IZjD6buQbYbE"
      },
      "execution_count": null,
      "outputs": []
    },
    {
      "cell_type": "code",
      "source": [
        "epochs = 1000\n",
        "\n",
        "for epoch in range(1, epochs + 1):\n",
        "  #학습값\n",
        "  hypothesis = x_train * w + b\n",
        "\n",
        "  #mse : mean squared error\n",
        "  cost = torch.mean((hypothesis - y_train) ** 2)\n",
        "\n",
        "  #이전 루프의 grad가 간섭하는 일이 발생하지 않게 하기 위해 초기화\n",
        "  optimizer.zero_grad()\n",
        "  #비용 함수 미분하여 grad계산\n",
        "  cost.backward()\n",
        "  #w와 b 업데이트\n",
        "  optimizer.step()"
      ],
      "metadata": {
        "id": "vVnbS73oaiqU"
      },
      "execution_count": null,
      "outputs": []
    },
    {
      "cell_type": "code",
      "source": [
        "print(w, b) #반복 결과 w : 1, b : 2.98 결과 얻음"
      ],
      "metadata": {
        "colab": {
          "base_uri": "https://localhost:8080/"
        },
        "id": "dmr8r4UcbLt_",
        "outputId": "d1494842-7498-430e-ce46-2cc2b6f1ea8c"
      },
      "execution_count": null,
      "outputs": [
        {
          "output_type": "stream",
          "name": "stdout",
          "text": [
            "tensor([1.0850], requires_grad=True) tensor([2.8067], requires_grad=True)\n"
          ]
        }
      ]
    },
    {
      "cell_type": "markdown",
      "source": [
        "Multivariate Linear Regression"
      ],
      "metadata": {
        "id": "opAwbkVliNjH"
      }
    },
    {
      "cell_type": "code",
      "source": [
        "import torch\n",
        "import torch.nn as nn\n",
        "import torch.nn.functional as F"
      ],
      "metadata": {
        "id": "-r76s0TxOJZq"
      },
      "execution_count": null,
      "outputs": []
    },
    {
      "cell_type": "code",
      "source": [
        "torch.manual_seed(1)"
      ],
      "metadata": {
        "colab": {
          "base_uri": "https://localhost:8080/"
        },
        "id": "4c5QxmTGORXJ",
        "outputId": "e02a3028-2337-4779-b763-75eaa67f688b"
      },
      "execution_count": null,
      "outputs": [
        {
          "output_type": "execute_result",
          "data": {
            "text/plain": [
              "<torch._C.Generator at 0x7f0ce4df0170>"
            ]
          },
          "metadata": {},
          "execution_count": 17
        }
      ]
    },
    {
      "cell_type": "code",
      "source": [
        "x_train = torch.FloatTensor([[73, 80, 75],\n",
        "                             [93, 88, 83],\n",
        "                             [89, 91, 90],\n",
        "                             [96, 98, 100],\n",
        "                             [73, 66, 70]])\n",
        "y_train = torch.FloatTensor([[152], [185], [180], [196], [142]])"
      ],
      "metadata": {
        "id": "TJEPlleGeWMp"
      },
      "execution_count": null,
      "outputs": []
    },
    {
      "cell_type": "code",
      "source": [
        "#모델 선언 및 초기화. 다중 선형 회귀이므로 input_dim=3, out_dim=1\n",
        "model = nn.Linear(3, 1)"
      ],
      "metadata": {
        "id": "jSleu8Gwi7HA"
      },
      "execution_count": null,
      "outputs": []
    },
    {
      "cell_type": "code",
      "source": [
        "print(list(model.parameters()))"
      ],
      "metadata": {
        "colab": {
          "base_uri": "https://localhost:8080/"
        },
        "id": "k9t1e5SP848I",
        "outputId": "f4a7fcc8-dddd-4645-add8-a4841b7c7b3f"
      },
      "execution_count": null,
      "outputs": [
        {
          "output_type": "stream",
          "name": "stdout",
          "text": [
            "[Parameter containing:\n",
            "tensor([[-0.5435,  0.3462, -0.1188]], requires_grad=True), Parameter containing:\n",
            "tensor([0.2937], requires_grad=True)]\n"
          ]
        }
      ]
    },
    {
      "cell_type": "code",
      "source": [
        "optimizer = torch.optim.SGD(model.parameters(),lr=1e-5)"
      ],
      "metadata": {
        "id": "xwVNj3zg9sWq"
      },
      "execution_count": null,
      "outputs": []
    },
    {
      "cell_type": "code",
      "source": [
        "epochs = 2000\n",
        "for epoch in range(epochs + 1):\n",
        "  prediction = model(x_train)\n",
        "  #model.forward(x_train)\n",
        "\n",
        "  cost = F.mse_loss(prediction, y_train) #평균 제곱 오차 함수\n",
        "\n",
        "  optimizer.zero_grad()\n",
        "  cost.backward()\n",
        "  optimizer.step()"
      ],
      "metadata": {
        "id": "t9EUUJoq9yI6"
      },
      "execution_count": null,
      "outputs": []
    },
    {
      "cell_type": "code",
      "source": [
        "new_var = torch.FloatTensor([[73, 80, 75]])\n",
        "pred_y = model(new_var)\n",
        "print(pred_y)"
      ],
      "metadata": {
        "colab": {
          "base_uri": "https://localhost:8080/"
        },
        "id": "V_UKLYpz90BM",
        "outputId": "c7c0d46d-92d7-4216-aace-fd6786606cce"
      },
      "execution_count": null,
      "outputs": [
        {
          "output_type": "stream",
          "name": "stdout",
          "text": [
            "tensor([[154.8465]], grad_fn=<AddmmBackward0>)\n"
          ]
        }
      ]
    },
    {
      "cell_type": "code",
      "source": [
        "print(list(model.parameters()))"
      ],
      "metadata": {
        "colab": {
          "base_uri": "https://localhost:8080/"
        },
        "id": "PI35i5-4Pdz7",
        "outputId": "d30a18df-cc6e-466e-a2c9-64565f178bdb"
      },
      "execution_count": null,
      "outputs": [
        {
          "output_type": "stream",
          "name": "stdout",
          "text": [
            "[Parameter containing:\n",
            "tensor([[0.7351, 0.9024, 0.3825]], requires_grad=True), Parameter containing:\n",
            "tensor([0.3057], requires_grad=True)]\n"
          ]
        }
      ]
    }
  ]
}